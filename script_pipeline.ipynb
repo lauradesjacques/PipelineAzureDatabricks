{
 "cells": [
  {
   "cell_type": "markdown",
   "metadata": {
    "application/vnd.databricks.v1+cell": {
     "cellMetadata": {},
     "inputWidgets": {},
     "nuid": "8927ae48-d3b5-4361-bfe8-8f82cf043919",
     "showTitle": false,
     "tableResultSettingsMap": {},
     "title": ""
    }
   },
   "source": [
    "\n",
    "## Brief: Building a Data Transformation Pipeline in the Cloud"
   ]
  },
  {
   "cell_type": "code",
   "execution_count": 0,
   "metadata": {
    "application/vnd.databricks.v1+cell": {
     "cellMetadata": {
      "byteLimit": 2048000,
      "rowLimit": 10000
     },
     "inputWidgets": {},
     "nuid": "050b9a15-ca04-484c-82e3-7d53125cfcf8",
     "showTitle": false,
     "tableResultSettingsMap": {},
     "title": ""
    }
   },
   "outputs": [
    {
     "data": {
      "text/html": [
       "<style scoped>\n",
       "  .table-result-container {\n",
       "    max-height: 300px;\n",
       "    overflow: auto;\n",
       "  }\n",
       "  table, th, td {\n",
       "    border: 1px solid black;\n",
       "    border-collapse: collapse;\n",
       "  }\n",
       "  th, td {\n",
       "    padding: 5px;\n",
       "  }\n",
       "  th {\n",
       "    text-align: left;\n",
       "  }\n",
       "</style><div class='table-result-container'><table class='table-result'><thead style='background-color: white'><tr><th>path</th><th>name</th><th>size</th><th>modificationTime</th></tr></thead><tbody><tr><td>dbfs:/databricks-datasets/COVID/</td><td>COVID/</td><td>0</td><td>1732268708053</td></tr><tr><td>dbfs:/databricks-datasets/README.md</td><td>README.md</td><td>976</td><td>1561418533000</td></tr><tr><td>dbfs:/databricks-datasets/Rdatasets/</td><td>Rdatasets/</td><td>0</td><td>1732268708053</td></tr><tr><td>dbfs:/databricks-datasets/SPARK_README.md</td><td>SPARK_README.md</td><td>3359</td><td>1561418605000</td></tr><tr><td>dbfs:/databricks-datasets/adult/</td><td>adult/</td><td>0</td><td>1732268708053</td></tr><tr><td>dbfs:/databricks-datasets/airlines/</td><td>airlines/</td><td>0</td><td>1732268708053</td></tr><tr><td>dbfs:/databricks-datasets/amazon/</td><td>amazon/</td><td>0</td><td>1732268708053</td></tr><tr><td>dbfs:/databricks-datasets/asa/</td><td>asa/</td><td>0</td><td>1732268708053</td></tr><tr><td>dbfs:/databricks-datasets/atlas_higgs/</td><td>atlas_higgs/</td><td>0</td><td>1732268708053</td></tr><tr><td>dbfs:/databricks-datasets/bikeSharing/</td><td>bikeSharing/</td><td>0</td><td>1732268708053</td></tr><tr><td>dbfs:/databricks-datasets/cctvVideos/</td><td>cctvVideos/</td><td>0</td><td>1732268708053</td></tr><tr><td>dbfs:/databricks-datasets/credit-card-fraud/</td><td>credit-card-fraud/</td><td>0</td><td>1732268708053</td></tr><tr><td>dbfs:/databricks-datasets/cs100/</td><td>cs100/</td><td>0</td><td>1732268708053</td></tr><tr><td>dbfs:/databricks-datasets/cs110x/</td><td>cs110x/</td><td>0</td><td>1732268708053</td></tr><tr><td>dbfs:/databricks-datasets/cs190/</td><td>cs190/</td><td>0</td><td>1732268708053</td></tr><tr><td>dbfs:/databricks-datasets/data.gov/</td><td>data.gov/</td><td>0</td><td>1732268708053</td></tr><tr><td>dbfs:/databricks-datasets/definitive-guide/</td><td>definitive-guide/</td><td>0</td><td>1732268708053</td></tr><tr><td>dbfs:/databricks-datasets/delta-sharing/</td><td>delta-sharing/</td><td>0</td><td>1732268708053</td></tr><tr><td>dbfs:/databricks-datasets/flights/</td><td>flights/</td><td>0</td><td>1732268708053</td></tr><tr><td>dbfs:/databricks-datasets/flower_photos/</td><td>flower_photos/</td><td>0</td><td>1732268708053</td></tr><tr><td>dbfs:/databricks-datasets/flowers/</td><td>flowers/</td><td>0</td><td>1732268708053</td></tr><tr><td>dbfs:/databricks-datasets/genomics/</td><td>genomics/</td><td>0</td><td>1732268708053</td></tr><tr><td>dbfs:/databricks-datasets/hail/</td><td>hail/</td><td>0</td><td>1732268708053</td></tr><tr><td>dbfs:/databricks-datasets/identifying-campaign-effectiveness/</td><td>identifying-campaign-effectiveness/</td><td>0</td><td>1732268708053</td></tr><tr><td>dbfs:/databricks-datasets/iot/</td><td>iot/</td><td>0</td><td>1732268708053</td></tr><tr><td>dbfs:/databricks-datasets/iot-stream/</td><td>iot-stream/</td><td>0</td><td>1732268708053</td></tr><tr><td>dbfs:/databricks-datasets/learning-spark/</td><td>learning-spark/</td><td>0</td><td>1732268708053</td></tr><tr><td>dbfs:/databricks-datasets/learning-spark-v2/</td><td>learning-spark-v2/</td><td>0</td><td>1732268708053</td></tr><tr><td>dbfs:/databricks-datasets/lending-club-loan-stats/</td><td>lending-club-loan-stats/</td><td>0</td><td>1732268708053</td></tr><tr><td>dbfs:/databricks-datasets/med-images/</td><td>med-images/</td><td>0</td><td>1732268708053</td></tr><tr><td>dbfs:/databricks-datasets/media/</td><td>media/</td><td>0</td><td>1732268708053</td></tr><tr><td>dbfs:/databricks-datasets/mnist-digits/</td><td>mnist-digits/</td><td>0</td><td>1732268708053</td></tr><tr><td>dbfs:/databricks-datasets/news20.binary/</td><td>news20.binary/</td><td>0</td><td>1732268708053</td></tr><tr><td>dbfs:/databricks-datasets/nyctaxi/</td><td>nyctaxi/</td><td>0</td><td>1732268708053</td></tr><tr><td>dbfs:/databricks-datasets/nyctaxi-with-zipcodes/</td><td>nyctaxi-with-zipcodes/</td><td>0</td><td>1732268708053</td></tr><tr><td>dbfs:/databricks-datasets/online_retail/</td><td>online_retail/</td><td>0</td><td>1732268708053</td></tr><tr><td>dbfs:/databricks-datasets/overlap-join/</td><td>overlap-join/</td><td>0</td><td>1732268708053</td></tr><tr><td>dbfs:/databricks-datasets/power-plant/</td><td>power-plant/</td><td>0</td><td>1732268708053</td></tr><tr><td>dbfs:/databricks-datasets/retail-org/</td><td>retail-org/</td><td>0</td><td>1732268708053</td></tr><tr><td>dbfs:/databricks-datasets/rwe/</td><td>rwe/</td><td>0</td><td>1732268708053</td></tr><tr><td>dbfs:/databricks-datasets/sai-summit-2019-sf/</td><td>sai-summit-2019-sf/</td><td>0</td><td>1732268708053</td></tr><tr><td>dbfs:/databricks-datasets/sample_logs/</td><td>sample_logs/</td><td>0</td><td>1732268708053</td></tr><tr><td>dbfs:/databricks-datasets/samples/</td><td>samples/</td><td>0</td><td>1732268708053</td></tr><tr><td>dbfs:/databricks-datasets/sfo_customer_survey/</td><td>sfo_customer_survey/</td><td>0</td><td>1732268708053</td></tr><tr><td>dbfs:/databricks-datasets/sms_spam_collection/</td><td>sms_spam_collection/</td><td>0</td><td>1732268708053</td></tr><tr><td>dbfs:/databricks-datasets/songs/</td><td>songs/</td><td>0</td><td>1732268708053</td></tr><tr><td>dbfs:/databricks-datasets/structured-streaming/</td><td>structured-streaming/</td><td>0</td><td>1732268708053</td></tr><tr><td>dbfs:/databricks-datasets/timeseries/</td><td>timeseries/</td><td>0</td><td>1732268708053</td></tr><tr><td>dbfs:/databricks-datasets/tpch/</td><td>tpch/</td><td>0</td><td>1732268708053</td></tr><tr><td>dbfs:/databricks-datasets/travel_recommendations_realtime/</td><td>travel_recommendations_realtime/</td><td>0</td><td>1732268708053</td></tr><tr><td>dbfs:/databricks-datasets/warmup/</td><td>warmup/</td><td>0</td><td>1732268708053</td></tr><tr><td>dbfs:/databricks-datasets/weather/</td><td>weather/</td><td>0</td><td>1732268708053</td></tr><tr><td>dbfs:/databricks-datasets/wiki/</td><td>wiki/</td><td>0</td><td>1732268708053</td></tr><tr><td>dbfs:/databricks-datasets/wikipedia-datasets/</td><td>wikipedia-datasets/</td><td>0</td><td>1732268708053</td></tr><tr><td>dbfs:/databricks-datasets/wine-quality/</td><td>wine-quality/</td><td>0</td><td>1732268708053</td></tr></tbody></table></div>"
      ]
     },
     "metadata": {
      "application/vnd.databricks.v1+output": {
       "addedWidgets": {},
       "aggData": [],
       "aggError": "",
       "aggOverflow": false,
       "aggSchema": [],
       "aggSeriesLimitReached": false,
       "aggType": "",
       "arguments": {},
       "columnCustomDisplayInfos": {},
       "data": [
        [
         "dbfs:/databricks-datasets/COVID/",
         "COVID/",
         0,
         1732268708053
        ],
        [
         "dbfs:/databricks-datasets/README.md",
         "README.md",
         976,
         1561418533000
        ],
        [
         "dbfs:/databricks-datasets/Rdatasets/",
         "Rdatasets/",
         0,
         1732268708053
        ],
        [
         "dbfs:/databricks-datasets/SPARK_README.md",
         "SPARK_README.md",
         3359,
         1561418605000
        ],
        [
         "dbfs:/databricks-datasets/adult/",
         "adult/",
         0,
         1732268708053
        ],
        [
         "dbfs:/databricks-datasets/airlines/",
         "airlines/",
         0,
         1732268708053
        ],
        [
         "dbfs:/databricks-datasets/amazon/",
         "amazon/",
         0,
         1732268708053
        ],
        [
         "dbfs:/databricks-datasets/asa/",
         "asa/",
         0,
         1732268708053
        ],
        [
         "dbfs:/databricks-datasets/atlas_higgs/",
         "atlas_higgs/",
         0,
         1732268708053
        ],
        [
         "dbfs:/databricks-datasets/bikeSharing/",
         "bikeSharing/",
         0,
         1732268708053
        ],
        [
         "dbfs:/databricks-datasets/cctvVideos/",
         "cctvVideos/",
         0,
         1732268708053
        ],
        [
         "dbfs:/databricks-datasets/credit-card-fraud/",
         "credit-card-fraud/",
         0,
         1732268708053
        ],
        [
         "dbfs:/databricks-datasets/cs100/",
         "cs100/",
         0,
         1732268708053
        ],
        [
         "dbfs:/databricks-datasets/cs110x/",
         "cs110x/",
         0,
         1732268708053
        ],
        [
         "dbfs:/databricks-datasets/cs190/",
         "cs190/",
         0,
         1732268708053
        ],
        [
         "dbfs:/databricks-datasets/data.gov/",
         "data.gov/",
         0,
         1732268708053
        ],
        [
         "dbfs:/databricks-datasets/definitive-guide/",
         "definitive-guide/",
         0,
         1732268708053
        ],
        [
         "dbfs:/databricks-datasets/delta-sharing/",
         "delta-sharing/",
         0,
         1732268708053
        ],
        [
         "dbfs:/databricks-datasets/flights/",
         "flights/",
         0,
         1732268708053
        ],
        [
         "dbfs:/databricks-datasets/flower_photos/",
         "flower_photos/",
         0,
         1732268708053
        ],
        [
         "dbfs:/databricks-datasets/flowers/",
         "flowers/",
         0,
         1732268708053
        ],
        [
         "dbfs:/databricks-datasets/genomics/",
         "genomics/",
         0,
         1732268708053
        ],
        [
         "dbfs:/databricks-datasets/hail/",
         "hail/",
         0,
         1732268708053
        ],
        [
         "dbfs:/databricks-datasets/identifying-campaign-effectiveness/",
         "identifying-campaign-effectiveness/",
         0,
         1732268708053
        ],
        [
         "dbfs:/databricks-datasets/iot/",
         "iot/",
         0,
         1732268708053
        ],
        [
         "dbfs:/databricks-datasets/iot-stream/",
         "iot-stream/",
         0,
         1732268708053
        ],
        [
         "dbfs:/databricks-datasets/learning-spark/",
         "learning-spark/",
         0,
         1732268708053
        ],
        [
         "dbfs:/databricks-datasets/learning-spark-v2/",
         "learning-spark-v2/",
         0,
         1732268708053
        ],
        [
         "dbfs:/databricks-datasets/lending-club-loan-stats/",
         "lending-club-loan-stats/",
         0,
         1732268708053
        ],
        [
         "dbfs:/databricks-datasets/med-images/",
         "med-images/",
         0,
         1732268708053
        ],
        [
         "dbfs:/databricks-datasets/media/",
         "media/",
         0,
         1732268708053
        ],
        [
         "dbfs:/databricks-datasets/mnist-digits/",
         "mnist-digits/",
         0,
         1732268708053
        ],
        [
         "dbfs:/databricks-datasets/news20.binary/",
         "news20.binary/",
         0,
         1732268708053
        ],
        [
         "dbfs:/databricks-datasets/nyctaxi/",
         "nyctaxi/",
         0,
         1732268708053
        ],
        [
         "dbfs:/databricks-datasets/nyctaxi-with-zipcodes/",
         "nyctaxi-with-zipcodes/",
         0,
         1732268708053
        ],
        [
         "dbfs:/databricks-datasets/online_retail/",
         "online_retail/",
         0,
         1732268708053
        ],
        [
         "dbfs:/databricks-datasets/overlap-join/",
         "overlap-join/",
         0,
         1732268708053
        ],
        [
         "dbfs:/databricks-datasets/power-plant/",
         "power-plant/",
         0,
         1732268708053
        ],
        [
         "dbfs:/databricks-datasets/retail-org/",
         "retail-org/",
         0,
         1732268708053
        ],
        [
         "dbfs:/databricks-datasets/rwe/",
         "rwe/",
         0,
         1732268708053
        ],
        [
         "dbfs:/databricks-datasets/sai-summit-2019-sf/",
         "sai-summit-2019-sf/",
         0,
         1732268708053
        ],
        [
         "dbfs:/databricks-datasets/sample_logs/",
         "sample_logs/",
         0,
         1732268708053
        ],
        [
         "dbfs:/databricks-datasets/samples/",
         "samples/",
         0,
         1732268708053
        ],
        [
         "dbfs:/databricks-datasets/sfo_customer_survey/",
         "sfo_customer_survey/",
         0,
         1732268708053
        ],
        [
         "dbfs:/databricks-datasets/sms_spam_collection/",
         "sms_spam_collection/",
         0,
         1732268708053
        ],
        [
         "dbfs:/databricks-datasets/songs/",
         "songs/",
         0,
         1732268708053
        ],
        [
         "dbfs:/databricks-datasets/structured-streaming/",
         "structured-streaming/",
         0,
         1732268708053
        ],
        [
         "dbfs:/databricks-datasets/timeseries/",
         "timeseries/",
         0,
         1732268708053
        ],
        [
         "dbfs:/databricks-datasets/tpch/",
         "tpch/",
         0,
         1732268708053
        ],
        [
         "dbfs:/databricks-datasets/travel_recommendations_realtime/",
         "travel_recommendations_realtime/",
         0,
         1732268708053
        ],
        [
         "dbfs:/databricks-datasets/warmup/",
         "warmup/",
         0,
         1732268708053
        ],
        [
         "dbfs:/databricks-datasets/weather/",
         "weather/",
         0,
         1732268708053
        ],
        [
         "dbfs:/databricks-datasets/wiki/",
         "wiki/",
         0,
         1732268708053
        ],
        [
         "dbfs:/databricks-datasets/wikipedia-datasets/",
         "wikipedia-datasets/",
         0,
         1732268708053
        ],
        [
         "dbfs:/databricks-datasets/wine-quality/",
         "wine-quality/",
         0,
         1732268708053
        ]
       ],
       "datasetInfos": [],
       "dbfsResultPath": null,
       "isJsonSchema": true,
       "metadata": {
        "isDbfsCommandResult": false
       },
       "overflow": false,
       "plotOptions": {
        "customPlotOptions": {},
        "displayType": "table",
        "pivotAggregation": null,
        "pivotColumns": null,
        "xColumns": null,
        "yColumns": null
       },
       "removedWidgets": [],
       "schema": [
        {
         "metadata": "{}",
         "name": "path",
         "type": "\"string\""
        },
        {
         "metadata": "{}",
         "name": "name",
         "type": "\"string\""
        },
        {
         "metadata": "{}",
         "name": "size",
         "type": "\"long\""
        },
        {
         "metadata": "{}",
         "name": "modificationTime",
         "type": "\"long\""
        }
       ],
       "type": "table"
      }
     },
     "output_type": "display_data"
    }
   ],
   "source": [
    "%fs ls \"/databricks-datasets/\"\n",
    "\n",
    "# Read all the data from the dataset with header\n",
    "data = spark.read.option(\"header\", \"true\").csv(\"/databricks-datasets/sfo_customer_survey\")\n",
    "\n",
    "# Display the data\n",
    "display(data)"
   ]
  },
  {
   "cell_type": "markdown",
   "metadata": {
    "application/vnd.databricks.v1+cell": {
     "cellMetadata": {},
     "inputWidgets": {},
     "nuid": "57c5cdae-d840-4547-b244-84f6b3a817d1",
     "showTitle": false,
     "tableResultSettingsMap": {},
     "title": ""
    }
   },
   "source": [
    "## store the raw data in the Bronze Layer"
   ]
  },
  {
   "cell_type": "code",
   "execution_count": 0,
   "metadata": {
    "application/vnd.databricks.v1+cell": {
     "cellMetadata": {
      "byteLimit": 2048000,
      "rowLimit": 10000
     },
     "inputWidgets": {},
     "nuid": "2c1d51fb-2405-4d7d-a760-36e26985259c",
     "showTitle": false,
     "tableResultSettingsMap": {},
     "title": ""
    }
   },
   "outputs": [],
   "source": [
    "\n",
    "\n",
    "## Save the data in CSV format on Azure Blob Storage on Bronze layer\n",
    "\n",
    "storage_name = \"*********\"\n",
    "storage_key = \"**********\"\n",
    "container_name = \"********\"\n",
    "output_path = f\"wasbs://{container_name}@{storage_name}.blob.core.windows.net/couches/bronze/sfo_customer_survey.csv\"\n",
    "\n",
    "spark.conf.set(f\"fs.azure.account.key.{storage_name}.blob.core.windows.net\", storage_key)\n",
    "\n",
    "data.write.mode(\"overwrite\").csv(output_path, header=True)"
   ]
  },
  {
   "cell_type": "markdown",
   "metadata": {
    "application/vnd.databricks.v1+cell": {
     "cellMetadata": {},
     "inputWidgets": {},
     "nuid": "ccd9ce5b-ff4e-4187-a85f-8f791b0a77f9",
     "showTitle": false,
     "tableResultSettingsMap": {},
     "title": ""
    }
   },
   "source": [
    "## Data Cleaning and Transformation then Storing in Silver Layer"
   ]
  },
  {
   "cell_type": "code",
   "execution_count": 0,
   "metadata": {
    "application/vnd.databricks.v1+cell": {
     "cellMetadata": {
      "byteLimit": 2048000,
      "rowLimit": 10000
     },
     "inputWidgets": {},
     "nuid": "cd27c166-b9ff-4fae-b0a6-98ce936c6803",
     "showTitle": false,
     "tableResultSettingsMap": {},
     "title": ""
    }
   },
   "outputs": [
    {
     "name": "stdout",
     "output_type": "stream",
     "text": [
      "[FileInfo(path='abfss://azuredatabrick@storagelauradataengineer.dfs.core.windows.net/couches/bronze/matches-19302010.csv', name='matches-19302010.csv', size=824541, modificationTime=1732202994000), FileInfo(path='abfss://azuredatabrick@storagelauradataengineer.dfs.core.windows.net/couches/bronze/products.csv', name='products.csv', size=14372, modificationTime=1732182241000), FileInfo(path='abfss://azuredatabrick@storagelauradataengineer.dfs.core.windows.net/couches/bronze/sfo_customer_survey.csv/', name='sfo_customer_survey.csv/', size=0, modificationTime=1732269258000)]\n"
     ]
    }
   ],
   "source": [
    "spark.conf.set(f\"fs.azure.account.key.{storage_name}.dfs.core.windows.net\", storage_key)\n",
    "files = dbutils.fs.ls(f\"abfss://{container_name}@{storage_name}.dfs.core.windows.net/couches/bronze/\")\n",
    "print(files)"
   ]
  },
  {
   "cell_type": "code",
   "execution_count": 0,
   "metadata": {
    "application/vnd.databricks.v1+cell": {
     "cellMetadata": {
      "byteLimit": 2048000,
      "rowLimit": 10000
     },
     "inputWidgets": {},
     "nuid": "82006a03-5501-4911-9ee9-eaab88e6fb50",
     "showTitle": false,
     "tableResultSettingsMap": {},
     "title": ""
    }
   },
   "outputs": [
    {
     "name": "stdout",
     "output_type": "stream",
     "text": [
      "root\n",
      " |-- RESPNUM: string (nullable = true)\n",
      " |-- CCGID: string (nullable = true)\n",
      " |-- RUN: string (nullable = true)\n",
      " |-- INTDATE: integer (nullable = true)\n",
      " |-- GATE: integer (nullable = true)\n",
      " |-- STRATA: integer (nullable = true)\n",
      " |-- PEAK: integer (nullable = true)\n",
      " |-- METHOD: integer (nullable = true)\n",
      " |-- AIRLINE: integer (nullable = true)\n",
      " |-- FLIGHT: integer (nullable = true)\n",
      " |-- DEST: integer (nullable = true)\n",
      " |-- DESTGEO: integer (nullable = true)\n",
      " |-- DESTMARK: integer (nullable = true)\n",
      " |-- ARRTIME: string (nullable = true)\n",
      " |-- DEPTIME: string (nullable = true)\n",
      " |-- Q2PURP1: integer (nullable = true)\n",
      " |-- Q2PURP2: integer (nullable = true)\n",
      " |-- Q2PURP3: integer (nullable = true)\n",
      " |-- Q2PURP4: integer (nullable = true)\n",
      " |-- Q2PURP5: integer (nullable = true)\n",
      " |-- Q2PURP6: string (nullable = true)\n",
      " |-- Q3GETTO1: integer (nullable = true)\n",
      " |-- Q3GETTO2: integer (nullable = true)\n",
      " |-- Q3GETTO3: integer (nullable = true)\n",
      " |-- Q3GETTO4: integer (nullable = true)\n",
      " |-- Q3GETTO5: string (nullable = true)\n",
      " |-- Q3GETTO6: string (nullable = true)\n",
      " |-- Q3PARK: integer (nullable = true)\n",
      " |-- Q4BAGS: integer (nullable = true)\n",
      " |-- Q4BUY: integer (nullable = true)\n",
      " |-- Q4FOOD: integer (nullable = true)\n",
      " |-- Q4WIFI: integer (nullable = true)\n",
      " |-- Q5FLYPERYR: integer (nullable = true)\n",
      " |-- Q6TENURE: double (nullable = true)\n",
      " |-- SAQ: integer (nullable = true)\n",
      " |-- Q7A_ART: integer (nullable = true)\n",
      " |-- Q7B_FOOD: integer (nullable = true)\n",
      " |-- Q7C_SHOPS: integer (nullable = true)\n",
      " |-- Q7D_SIGNS: integer (nullable = true)\n",
      " |-- Q7E_WALK: integer (nullable = true)\n",
      " |-- Q7F_SCREENS: integer (nullable = true)\n",
      " |-- Q7G_INFOARR: integer (nullable = true)\n",
      " |-- Q7H_INFODEP: integer (nullable = true)\n",
      " |-- Q7I_WIFI: integer (nullable = true)\n",
      " |-- Q7J_ROAD: integer (nullable = true)\n",
      " |-- Q7K_PARK: integer (nullable = true)\n",
      " |-- Q7L_AIRTRAIN: integer (nullable = true)\n",
      " |-- Q7M_LTPARK: integer (nullable = true)\n",
      " |-- Q7N_RENTAL: integer (nullable = true)\n",
      " |-- Q7O_WHOLE: integer (nullable = true)\n",
      " |-- Q8COM1: integer (nullable = true)\n",
      " |-- Q8COM2: integer (nullable = true)\n",
      " |-- Q8COM3: integer (nullable = true)\n",
      " |-- Q9A_CLNBOARD: integer (nullable = true)\n",
      " |-- Q9B_CLNAIRTRAIN: integer (nullable = true)\n",
      " |-- Q9C_CLNRENT: integer (nullable = true)\n",
      " |-- Q9D_CLNFOOD: integer (nullable = true)\n",
      " |-- Q9E_CLNBATH: integer (nullable = true)\n",
      " |-- Q9F_CLNWHOLE: integer (nullable = true)\n",
      " |-- Q9COM1: integer (nullable = true)\n",
      " |-- Q9COM2: integer (nullable = true)\n",
      " |-- Q9COM3: string (nullable = true)\n",
      " |-- Q10SAFE: integer (nullable = true)\n",
      " |-- Q10COM1: integer (nullable = true)\n",
      " |-- Q10COM2: integer (nullable = true)\n",
      " |-- Q10COM3: integer (nullable = true)\n",
      " |-- Q11A_USEWEB: integer (nullable = true)\n",
      " |-- Q11B_USESFOAPP: integer (nullable = true)\n",
      " |-- Q11C_USEOTHAPP: integer (nullable = true)\n",
      " |-- Q11D_USESOCMED: integer (nullable = true)\n",
      " |-- Q11E_USEWIFI: integer (nullable = true)\n",
      " |-- Q12COM1: integer (nullable = true)\n",
      " |-- Q12COM2: integer (nullable = true)\n",
      " |-- Q12COM3: integer (nullable = true)\n",
      " |-- Q13_WHEREDEPART: integer (nullable = true)\n",
      " |-- Q13_RATEGETTO: integer (nullable = true)\n",
      " |-- Q14A_FIND: integer (nullable = true)\n",
      " |-- Q14B_SECURITY: integer (nullable = true)\n",
      " |-- Q15_PROBLEMS: integer (nullable = true)\n",
      " |-- Q15COM1: integer (nullable = true)\n",
      " |-- Q15COM2: integer (nullable = true)\n",
      " |-- Q15COM3: string (nullable = true)\n",
      " |-- Q16_REGION: integer (nullable = true)\n",
      " |-- Q17_CITY: string (nullable = true)\n",
      " |-- Q17_ZIP: integer (nullable = true)\n",
      " |-- Q17_COUNTRY: string (nullable = true)\n",
      " |-- HOME: integer (nullable = true)\n",
      " |-- Q18_AGE: integer (nullable = true)\n",
      " |-- Q19_SEX: integer (nullable = true)\n",
      " |-- Q20_INCOME: integer (nullable = true)\n",
      " |-- Q21_HIFLYER: integer (nullable = true)\n",
      " |-- Q22A_USESJC: integer (nullable = true)\n",
      " |-- Q22B_USEOAK: integer (nullable = true)\n",
      " |-- LANG: integer (nullable = true)\n",
      " |-- WEIGHT: double (nullable = true)\n",
      "\n"
     ]
    }
   ],
   "source": [
    "from pyspark.sql.functions import col, to_date, to_timestamp, trim, upper\n",
    "from pyspark.sql.types import IntegerType, FloatType, StringType, StructType, StructField\n",
    "\n",
    "spark.conf.set(f\"fs.azure.account.key.{storage_name}.blob.core.windows.net\", storage_key)\n",
    "\n",
    "bronze_path = f\"abfss://{container_name}@{storage_name}.dfs.core.windows.net/couches/bronze/sfo_customer_survey.csv\"\n",
    "\n",
    "raw_data = spark.read.option(\"header\", True).option(\"inferSchema\", True).csv(bronze_path)\n",
    "raw_data.printSchema()"
   ]
  },
  {
   "cell_type": "code",
   "execution_count": 0,
   "metadata": {
    "application/vnd.databricks.v1+cell": {
     "cellMetadata": {
      "byteLimit": 2048000,
      "rowLimit": 10000
     },
     "inputWidgets": {},
     "nuid": "a7477581-0200-4ed6-8daf-f15a225fb32e",
     "showTitle": false,
     "tableResultSettingsMap": {},
     "title": ""
    }
   },
   "outputs": [],
   "source": [
    "\n",
    "# Schema Definition (Explicit for All Columns)\n",
    "schema = StructType([\n",
    "    StructField(\"RESPNUM\", IntegerType(), True),\n",
    "    StructField(\"CCGID\", IntegerType(), True),\n",
    "    StructField(\"RUN\", IntegerType(), True),\n",
    "    StructField(\"INTDATE\", StringType(), True),\n",
    "    StructField(\"GATE\", IntegerType(), True),\n",
    "    StructField(\"STRATA\", IntegerType(), True),\n",
    "    StructField(\"PEAK\", IntegerType(), True),\n",
    "    StructField(\"METHOD\", IntegerType(), True),\n",
    "    StructField(\"AIRLINE\", IntegerType(), True),\n",
    "    StructField(\"FLIGHT\", IntegerType(), True),\n",
    "    StructField(\"DEST\", StringType(), True),\n",
    "    StructField(\"DESTGEO\", IntegerType(), True),\n",
    "    StructField(\"DESTMARK\", IntegerType(), True),\n",
    "    StructField(\"ARRTIME\", StringType(), True),\n",
    "    StructField(\"DEPTIME\", StringType(), True),\n",
    "    StructField(\"Q2PURP1\", IntegerType(), True),\n",
    "    StructField(\"Q2PURP2\", IntegerType(), True),\n",
    "    StructField(\"Q2PURP3\", IntegerType(), True),\n",
    "    StructField(\"Q2PURP4\", IntegerType(), True),\n",
    "    StructField(\"Q2PURP5\", IntegerType(), True),\n",
    "    StructField(\"Q2PURP6\", IntegerType(), True),\n",
    "    StructField(\"Q3GETTO1\", IntegerType(), True),\n",
    "    StructField(\"Q3GETTO2\", IntegerType(), True),\n",
    "    StructField(\"Q3GETTO3\", IntegerType(), True),\n",
    "    StructField(\"Q3GETTO4\", IntegerType(), True),\n",
    "    StructField(\"Q3GETTO5\", IntegerType(), True),\n",
    "    StructField(\"Q3GETTO6\", IntegerType(), True),\n",
    "    StructField(\"Q3PARK\", IntegerType(), True),\n",
    "    StructField(\"Q4BAGS\", IntegerType(), True),\n",
    "    StructField(\"Q4BUY\", IntegerType(), True),\n",
    "    StructField(\"Q4FOOD\", IntegerType(), True),\n",
    "    StructField(\"Q4WIFI\", IntegerType(), True),\n",
    "    StructField(\"Q5FLYPERYR\", IntegerType(), True),\n",
    "    StructField(\"Q6TENURE\", IntegerType(), True),\n",
    "    StructField(\"SAQ\", IntegerType(), True),\n",
    "    StructField(\"Q7A_ART\", IntegerType(), True),\n",
    "    StructField(\"Q7B_FOOD\", IntegerType(), True),\n",
    "    StructField(\"Q7C_SHOPS\", IntegerType(), True),\n",
    "    StructField(\"Q7D_SIGNS\", IntegerType(), True),\n",
    "    StructField(\"Q7E_WALK\", IntegerType(), True),\n",
    "    StructField(\"Q7F_SCREENS\", IntegerType(), True),\n",
    "    StructField(\"Q7G_INFOARR\", IntegerType(), True),\n",
    "    StructField(\"Q7H_INFODEP\", IntegerType(), True),\n",
    "    StructField(\"Q7I_WIFI\", IntegerType(), True),\n",
    "    StructField(\"Q7J_ROAD\", IntegerType(), True),\n",
    "    StructField(\"Q7K_PARK\", IntegerType(), True),\n",
    "    StructField(\"Q7L_AIRTRAIN\", IntegerType(), True),\n",
    "    StructField(\"Q7M_LTPARK\", IntegerType(), True),\n",
    "    StructField(\"Q7N_RENTAL\", IntegerType(), True),\n",
    "    StructField(\"Q7O_WHOLE\", IntegerType(), True),\n",
    "    StructField(\"Q8COM1\", StringType(), True),\n",
    "    StructField(\"Q8COM2\", StringType(), True),\n",
    "    StructField(\"Q8COM3\", StringType(), True),\n",
    "    StructField(\"Q9A_CLNBOARD\", IntegerType(), True),\n",
    "    StructField(\"Q9B_CLNAIRTRAIN\", IntegerType(), True),\n",
    "    StructField(\"Q9C_CLNRENT\", IntegerType(), True),\n",
    "    StructField(\"Q9D_CLNFOOD\", IntegerType(), True),\n",
    "    StructField(\"Q9E_CLNBATH\", IntegerType(), True),\n",
    "    StructField(\"Q9F_CLNWHOLE\", IntegerType(), True),\n",
    "    StructField(\"Q9COM1\", StringType(), True),\n",
    "    StructField(\"Q9COM2\", StringType(), True),\n",
    "    StructField(\"Q9COM3\", StringType(), True),\n",
    "    StructField(\"Q10SAFE\", IntegerType(), True),\n",
    "    StructField(\"Q10COM1\", StringType(), True),\n",
    "    StructField(\"Q10COM2\", StringType(), True),\n",
    "    StructField(\"Q10COM3\", StringType(), True),\n",
    "    StructField(\"Q11A_USEWEB\", IntegerType(), True),\n",
    "    StructField(\"Q11B_USESFOAPP\", IntegerType(), True),\n",
    "    StructField(\"Q11C_USEOTHAPP\", IntegerType(), True),\n",
    "    StructField(\"Q11D_USESOCMED\", IntegerType(), True),\n",
    "    StructField(\"Q11E_USEWIFI\", IntegerType(), True),\n",
    "    StructField(\"Q12COM1\", StringType(), True),\n",
    "    StructField(\"Q12COM2\", StringType(), True),\n",
    "    StructField(\"Q12COM3\", StringType(), True),\n",
    "    StructField(\"Q13_WHEREDEPART\", StringType(), True),\n",
    "    StructField(\"Q13_RATEGETTO\", IntegerType(), True),\n",
    "    StructField(\"Q14A_FIND\", IntegerType(), True),\n",
    "    StructField(\"Q14B_SECURITY\", IntegerType(), True),\n",
    "    StructField(\"Q15_PROBLEMS\", StringType(), True),\n",
    "    StructField(\"Q16_REGION\", StringType(), True),\n",
    "    StructField(\"Q17_CITY\", StringType(), True),\n",
    "    StructField(\"Q17_ZIP\", IntegerType(), True),\n",
    "    StructField(\"Q17_COUNTRY\", StringType(), True),\n",
    "    StructField(\"HOME\", IntegerType(), True),\n",
    "    StructField(\"Q18_AGE\", IntegerType(), True),\n",
    "    StructField(\"Q19_SEX\", IntegerType(), True),\n",
    "    StructField(\"Q20_INCOME\", IntegerType(), True),\n",
    "    StructField(\"Q21_HIFLYER\", IntegerType(), True),\n",
    "    StructField(\"Q22A_USESJC\", IntegerType(), True),\n",
    "    StructField(\"Q22B_USEOAK\", IntegerType(), True),\n",
    "    StructField(\"LANG\", IntegerType(), True),\n",
    "    StructField(\"WEIGHT\", FloatType(), True)\n",
    "])\n"
   ]
  },
  {
   "cell_type": "code",
   "execution_count": 0,
   "metadata": {
    "application/vnd.databricks.v1+cell": {
     "cellMetadata": {
      "byteLimit": 2048000,
      "rowLimit": 10000
     },
     "inputWidgets": {},
     "nuid": "b1aac49d-acf0-4d4b-96b7-97f329d3d3c3",
     "showTitle": false,
     "tableResultSettingsMap": {},
     "title": ""
    }
   },
   "outputs": [],
   "source": [
    "# Cleaning Data\n",
    "cleaned_data = raw_data \\\n",
    "    .replace(\"\", None) \\\n",
    "    .withColumn(\"INTDATE\", to_date(col(\"INTDATE\"), \"MM/dd/yyyy\")) \\\n",
    "    .withColumn(\"ARRTIME\", to_timestamp(col(\"ARRTIME\"), \"HH:mm\")) \\\n",
    "    .withColumn(\"DEPTIME\", to_timestamp(col(\"DEPTIME\"), \"HH:mm\"))\n",
    "\n",
    "# Normalize strings\n",
    "string_columns = [\"DEST\", \"Q16_REGION\", \"Q17_CITY\", \"Q17_COUNTRY\", \"Q13_WHEREDEPART\", \"Q15_PROBLEMS\"]\n",
    "for col_name in string_columns:\n",
    "    cleaned_data = cleaned_data.withColumn(col_name, upper(trim(col(col_name))))\n",
    "\n",
    "# Convert numerical columns explicitly\n",
    "numerical_columns = [\"Q18_AGE\", \"Q20_INCOME\", \"WEIGHT\"]\n",
    "for col_name in numerical_columns:\n",
    "    cleaned_data = cleaned_data.withColumn(col_name, col(col_name).cast(FloatType() if col_name == \"WEIGHT\" else IntegerType()))\n",
    "\n",
    "# Remove duplicates and filter invalid rows\n",
    "cleaned_data = cleaned_data.dropDuplicates()\n",
    "\n",
    "\n",
    "\n"
   ]
  },
  {
   "cell_type": "code",
   "execution_count": 0,
   "metadata": {
    "application/vnd.databricks.v1+cell": {
     "cellMetadata": {
      "byteLimit": 2048000,
      "rowLimit": 10000
     },
     "inputWidgets": {},
     "nuid": "836fcb23-a521-4e3c-8fea-151e07e68ab0",
     "showTitle": false,
     "tableResultSettingsMap": {},
     "title": ""
    }
   },
   "outputs": [],
   "source": [
    "bronze_path = f\"abfss://{container_name}@{storage_name}.dfs.core.windows.net/couches/bronze/sfo_customer_survey.csv\"\n"
   ]
  },
  {
   "cell_type": "code",
   "execution_count": 0,
   "metadata": {
    "application/vnd.databricks.v1+cell": {
     "cellMetadata": {
      "byteLimit": 2048000,
      "rowLimit": 10000
     },
     "inputWidgets": {},
     "nuid": "2279ae81-1c60-44d3-b4dd-83c559ae51f4",
     "showTitle": false,
     "tableResultSettingsMap": {},
     "title": ""
    }
   },
   "outputs": [
    {
     "name": "stdout",
     "output_type": "stream",
     "text": [
      "Data cleaning and transformation completed. Stored in Silver layer.\n"
     ]
    }
   ],
   "source": [
    "# Write Cleaned Data to Silver Layer\n",
    "silver_path = f\"abfss://{container_name}@{storage_name}.dfs.core.windows.net/couches/silver/sfo_customer_survey_silver.csv\"\n",
    "cleaned_data.write.mode(\"overwrite\").parquet(silver_path)\n",
    "\n",
    "print(\"Data cleaning and transformation completed. Stored in Silver layer.\")"
   ]
  },
  {
   "cell_type": "markdown",
   "metadata": {
    "application/vnd.databricks.v1+cell": {
     "cellMetadata": {},
     "inputWidgets": {},
     "nuid": "f6bd973d-9577-4dce-a715-9dbc2c4b642b",
     "showTitle": false,
     "tableResultSettingsMap": {},
     "title": ""
    }
   },
   "source": [
    "## Create the Star Schema  "
   ]
  },
  {
   "cell_type": "code",
   "execution_count": 0,
   "metadata": {
    "application/vnd.databricks.v1+cell": {
     "cellMetadata": {
      "byteLimit": 2048000,
      "rowLimit": 10000
     },
     "inputWidgets": {},
     "nuid": "197f1f4d-06ea-4b6a-bbf0-a42045d573fa",
     "showTitle": false,
     "tableResultSettingsMap": {},
     "title": ""
    }
   },
   "outputs": [],
   "source": [
    "# 1. Dimension: Airline\n",
    "dim_airline = raw_data.select(\"AIRLINE\").distinct() \\\n",
    "    .withColumnRenamed(\"AIRLINE\", \"airline_code\") \\\n",
    "    .withColumn(\"airline_name\", col(\"airline_code\"))  # Add a placeholder name\n",
    "\n",
    "# 2. Dimension: Demographics\n",
    "dim_demographics = raw_data.select(\n",
    "    col(\"RESPNUM\").alias(\"response_id\"),\n",
    "    col(\"Q18_AGE\").cast(\"int\").alias(\"age\"),\n",
    "    col(\"Q19_SEX\").alias(\"gender\"),\n",
    "    col(\"Q20_INCOME\").alias(\"income_level\"),\n",
    "    col(\"Q17_COUNTRY\").alias(\"country\"),\n",
    "    col(\"HOME\").alias(\"home_flag\")\n",
    ").dropDuplicates()\n",
    "\n",
    "# 3. Dimension: Survey Questions\n",
    "survey_columns = [c for c in raw_data.columns if c.startswith(\"Q\")]\n",
    "dim_survey = raw_data.select(\"RESPNUM\", *survey_columns).dropDuplicates()\n",
    "\n",
    "# 4. Dimension: Flight Details\n",
    "dim_flight = raw_data.select(\n",
    "    col(\"RESPNUM\").alias(\"response_id\"),\n",
    "    col(\"FLIGHT\").alias(\"flight_number\"),\n",
    "    col(\"DEST\").alias(\"destination\"),\n",
    "    col(\"DESTMARK\").alias(\"destination_mark\"),\n",
    "    col(\"ARRTIME\").alias(\"arrival_time\"),\n",
    "    col(\"DEPTIME\").alias(\"departure_time\")\n",
    ").dropDuplicates()\n",
    "\n"
   ]
  },
  {
   "cell_type": "code",
   "execution_count": 0,
   "metadata": {
    "application/vnd.databricks.v1+cell": {
     "cellMetadata": {
      "byteLimit": 2048000,
      "rowLimit": 10000
     },
     "inputWidgets": {},
     "nuid": "6c8dbd9f-59f8-40df-b31f-4ea69ddf7119",
     "showTitle": false,
     "tableResultSettingsMap": {},
     "title": ""
    }
   },
   "outputs": [],
   "source": [
    "fact_survey_responses = raw_data.select(\n",
    "    col(\"RESPNUM\").alias(\"response_id\"),\n",
    "    col(\"AIRLINE\").alias(\"airline_code\"),\n",
    "    col(\"FLIGHT\").alias(\"flight_number\"),\n",
    "    col(\"DEST\").alias(\"destination\"),\n",
    "    col(\"DESTGEO\").alias(\"destination_geo\"),\n",
    "    col(\"GATE\").alias(\"gate\"),\n",
    "    col(\"ARRTIME\").alias(\"arrival_time\"),\n",
    "    col(\"DEPTIME\").alias(\"departure_time\"),\n",
    "    col(\"Q2PURP1\").alias(\"purpose_1\"),\n",
    "    col(\"Q7A_ART\").alias(\"art_rating\"),\n",
    "    col(\"Q7B_FOOD\").alias(\"food_rating\"),\n",
    "    col(\"Q7I_WIFI\").alias(\"wifi_rating\"),\n",
    "    col(\"Q9A_CLNBOARD\").alias(\"cleanliness_boarding\"),\n",
    "    col(\"Q10SAFE\").alias(\"safety_rating\"),\n",
    "    col(\"Q17_CITY\").alias(\"city\"),\n",
    "    col(\"Q18_AGE\").alias(\"age\"),\n",
    "    col(\"Q19_SEX\").alias(\"gender\"),\n",
    "    col(\"INTDATE\").alias(\"interview_date\")\n",
    ")\n"
   ]
  },
  {
   "cell_type": "code",
   "execution_count": 0,
   "metadata": {
    "application/vnd.databricks.v1+cell": {
     "cellMetadata": {
      "byteLimit": 2048000,
      "rowLimit": 10000
     },
     "inputWidgets": {},
     "nuid": "72118e5d-9d1c-414a-8121-6138b189a17f",
     "showTitle": false,
     "tableResultSettingsMap": {},
     "title": ""
    }
   },
   "outputs": [
    {
     "data": {
      "text/html": [
       "<div>\n",
       "<style scoped>\n",
       "    .dataframe tbody tr th:only-of-type {\n",
       "        vertical-align: middle;\n",
       "    }\n",
       "\n",
       "    .dataframe tbody tr th {\n",
       "        vertical-align: top;\n",
       "    }\n",
       "\n",
       "    .dataframe thead th {\n",
       "        text-align: right;\n",
       "    }\n",
       "</style>\n",
       "<table border=\"1\" class=\"dataframe\">\n",
       "  <thead>\n",
       "    <tr style=\"text-align: right;\">\n",
       "      <th></th>\n",
       "      <th>response_id</th>\n",
       "      <th>airline_code</th>\n",
       "      <th>flight_number</th>\n",
       "      <th>destination</th>\n",
       "      <th>destination_geo</th>\n",
       "      <th>gate</th>\n",
       "      <th>arrival_time</th>\n",
       "      <th>departure_time</th>\n",
       "      <th>purpose_1</th>\n",
       "      <th>art_rating</th>\n",
       "      <th>food_rating</th>\n",
       "      <th>wifi_rating</th>\n",
       "      <th>cleanliness_boarding</th>\n",
       "      <th>safety_rating</th>\n",
       "      <th>city</th>\n",
       "      <th>age</th>\n",
       "      <th>gender</th>\n",
       "      <th>interview_date</th>\n",
       "    </tr>\n",
       "  </thead>\n",
       "  <tbody>\n",
       "    <tr>\n",
       "      <th>0</th>\n",
       "      <td>1</td>\n",
       "      <td>21</td>\n",
       "      <td>1437</td>\n",
       "      <td>49</td>\n",
       "      <td>1</td>\n",
       "      <td>12</td>\n",
       "      <td>8:34 AM</td>\n",
       "      <td>9:25 AM</td>\n",
       "      <td>1</td>\n",
       "      <td>3</td>\n",
       "      <td>4</td>\n",
       "      <td>3</td>\n",
       "      <td>3</td>\n",
       "      <td>5</td>\n",
       "      <td>SAN FRANCISCO</td>\n",
       "      <td>2</td>\n",
       "      <td>1</td>\n",
       "      <td>2</td>\n",
       "    </tr>\n",
       "    <tr>\n",
       "      <th>1</th>\n",
       "      <td>2</td>\n",
       "      <td>21</td>\n",
       "      <td>1437</td>\n",
       "      <td>49</td>\n",
       "      <td>1</td>\n",
       "      <td>12</td>\n",
       "      <td>8:00 AM</td>\n",
       "      <td>9:25 AM</td>\n",
       "      <td>1</td>\n",
       "      <td>4</td>\n",
       "      <td>4</td>\n",
       "      <td>6</td>\n",
       "      <td>4</td>\n",
       "      <td>5</td>\n",
       "      <td>CONCORD</td>\n",
       "      <td>6</td>\n",
       "      <td>1</td>\n",
       "      <td>2</td>\n",
       "    </tr>\n",
       "    <tr>\n",
       "      <th>2</th>\n",
       "      <td>3</td>\n",
       "      <td>21</td>\n",
       "      <td>1437</td>\n",
       "      <td>49</td>\n",
       "      <td>1</td>\n",
       "      <td>12</td>\n",
       "      <td>7:00 AM</td>\n",
       "      <td>9:25 AM</td>\n",
       "      <td>1</td>\n",
       "      <td>3</td>\n",
       "      <td>4</td>\n",
       "      <td>3</td>\n",
       "      <td>3</td>\n",
       "      <td>3</td>\n",
       "      <td>SAN FRANCISCO</td>\n",
       "      <td>4</td>\n",
       "      <td>2</td>\n",
       "      <td>2</td>\n",
       "    </tr>\n",
       "    <tr>\n",
       "      <th>3</th>\n",
       "      <td>4</td>\n",
       "      <td>21</td>\n",
       "      <td>1437</td>\n",
       "      <td>49</td>\n",
       "      <td>1</td>\n",
       "      <td>12</td>\n",
       "      <td>7:30 AM</td>\n",
       "      <td>9:25 AM</td>\n",
       "      <td>1</td>\n",
       "      <td>3</td>\n",
       "      <td>3</td>\n",
       "      <td>4</td>\n",
       "      <td>5</td>\n",
       "      <td>5</td>\n",
       "      <td>None</td>\n",
       "      <td>4</td>\n",
       "      <td>1</td>\n",
       "      <td>2</td>\n",
       "    </tr>\n",
       "    <tr>\n",
       "      <th>4</th>\n",
       "      <td>5</td>\n",
       "      <td>21</td>\n",
       "      <td>1437</td>\n",
       "      <td>49</td>\n",
       "      <td>1</td>\n",
       "      <td>12</td>\n",
       "      <td>6:30 AM</td>\n",
       "      <td>9:25 AM</td>\n",
       "      <td>1</td>\n",
       "      <td>3</td>\n",
       "      <td>3</td>\n",
       "      <td>5</td>\n",
       "      <td>5</td>\n",
       "      <td>5</td>\n",
       "      <td>HUNTINGTON BEACH</td>\n",
       "      <td>3</td>\n",
       "      <td>1</td>\n",
       "      <td>2</td>\n",
       "    </tr>\n",
       "    <tr>\n",
       "      <th>5</th>\n",
       "      <td>6</td>\n",
       "      <td>21</td>\n",
       "      <td>1437</td>\n",
       "      <td>49</td>\n",
       "      <td>1</td>\n",
       "      <td>12</td>\n",
       "      <td>8:00 AM</td>\n",
       "      <td>9:25 AM</td>\n",
       "      <td>2</td>\n",
       "      <td>4</td>\n",
       "      <td>3</td>\n",
       "      <td>1</td>\n",
       "      <td>3</td>\n",
       "      <td>5</td>\n",
       "      <td>SAN FRANCISCO</td>\n",
       "      <td>5</td>\n",
       "      <td>1</td>\n",
       "      <td>2</td>\n",
       "    </tr>\n",
       "    <tr>\n",
       "      <th>6</th>\n",
       "      <td>7</td>\n",
       "      <td>18</td>\n",
       "      <td>144</td>\n",
       "      <td>25</td>\n",
       "      <td>1</td>\n",
       "      <td>43</td>\n",
       "      <td>8:25 AM</td>\n",
       "      <td>10:35 AM</td>\n",
       "      <td>6</td>\n",
       "      <td>3</td>\n",
       "      <td>3</td>\n",
       "      <td>6</td>\n",
       "      <td>5</td>\n",
       "      <td>4</td>\n",
       "      <td>RODEO</td>\n",
       "      <td>9</td>\n",
       "      <td>1</td>\n",
       "      <td>2</td>\n",
       "    </tr>\n",
       "    <tr>\n",
       "      <th>7</th>\n",
       "      <td>8</td>\n",
       "      <td>18</td>\n",
       "      <td>144</td>\n",
       "      <td>25</td>\n",
       "      <td>1</td>\n",
       "      <td>43</td>\n",
       "      <td>9:25 AM</td>\n",
       "      <td>10:35 AM</td>\n",
       "      <td>2</td>\n",
       "      <td>5</td>\n",
       "      <td>4</td>\n",
       "      <td>5</td>\n",
       "      <td>5</td>\n",
       "      <td>5</td>\n",
       "      <td>SAN BRUNO</td>\n",
       "      <td>5</td>\n",
       "      <td>2</td>\n",
       "      <td>2</td>\n",
       "    </tr>\n",
       "    <tr>\n",
       "      <th>8</th>\n",
       "      <td>9</td>\n",
       "      <td>18</td>\n",
       "      <td>144</td>\n",
       "      <td>25</td>\n",
       "      <td>1</td>\n",
       "      <td>43</td>\n",
       "      <td>8:30 AM</td>\n",
       "      <td>10:35 AM</td>\n",
       "      <td>6</td>\n",
       "      <td>5</td>\n",
       "      <td>5</td>\n",
       "      <td>5</td>\n",
       "      <td>5</td>\n",
       "      <td>4</td>\n",
       "      <td>NEWARK</td>\n",
       "      <td>5</td>\n",
       "      <td>1</td>\n",
       "      <td>2</td>\n",
       "    </tr>\n",
       "    <tr>\n",
       "      <th>9</th>\n",
       "      <td>10</td>\n",
       "      <td>18</td>\n",
       "      <td>144</td>\n",
       "      <td>25</td>\n",
       "      <td>1</td>\n",
       "      <td>43</td>\n",
       "      <td>9:30 AM</td>\n",
       "      <td>10:35 AM</td>\n",
       "      <td>1</td>\n",
       "      <td>3</td>\n",
       "      <td>3</td>\n",
       "      <td>5</td>\n",
       "      <td>4</td>\n",
       "      <td>3</td>\n",
       "      <td>VALLEJO</td>\n",
       "      <td>3</td>\n",
       "      <td>2</td>\n",
       "      <td>2</td>\n",
       "    </tr>\n",
       "  </tbody>\n",
       "</table>\n",
       "</div>"
      ],
      "text/plain": [
       "  response_id  airline_code  flight_number  ...  age  gender  interview_date\n",
       "0           1            21           1437  ...    2       1               2\n",
       "1           2            21           1437  ...    6       1               2\n",
       "2           3            21           1437  ...    4       2               2\n",
       "3           4            21           1437  ...    4       1               2\n",
       "4           5            21           1437  ...    3       1               2\n",
       "5           6            21           1437  ...    5       1               2\n",
       "6           7            18            144  ...    9       1               2\n",
       "7           8            18            144  ...    5       2               2\n",
       "8           9            18            144  ...    5       1               2\n",
       "9          10            18            144  ...    3       2               2\n",
       "\n",
       "[10 rows x 18 columns]"
      ]
     },
     "execution_count": 15,
     "metadata": {},
     "output_type": "execute_result"
    }
   ],
   "source": [
    "fact_survey_responses.limit(10).toPandas()\n"
   ]
  },
  {
   "cell_type": "code",
   "execution_count": 0,
   "metadata": {
    "application/vnd.databricks.v1+cell": {
     "cellMetadata": {
      "byteLimit": 2048000,
      "rowLimit": 10000
     },
     "inputWidgets": {},
     "nuid": "e7ac3b4c-0aeb-4227-9235-ea2dee42fccd",
     "showTitle": false,
     "tableResultSettingsMap": {},
     "title": ""
    }
   },
   "outputs": [],
   "source": [
    "gold_path = f\"abfss://{container_name}@{storage_name}.dfs.core.windows.net/couches/gold/\"\n",
    "dim_airline_path = gold_path + \"dim_airline\"\n",
    "dim_demographics_path = gold_path + \"dim_demographics\"\n",
    "dim_survey_path = gold_path + \"dim_survey\"\n",
    "dim_flight_path = gold_path + \"dim_flight\"\n",
    "fact_survey_responses_path = gold_path + \"fact_survey_responses\"\n",
    "\n",
    "# Save each dimension and fact table to the Gold Layer\n",
    "dim_airline.write.mode(\"overwrite\").parquet(dim_airline_path)\n",
    "dim_demographics.write.mode(\"overwrite\").parquet(dim_demographics_path)\n",
    "dim_survey.write.mode(\"overwrite\").parquet(dim_survey_path)\n",
    "dim_flight.write.mode(\"overwrite\").parquet(dim_flight_path)\n",
    "fact_survey_responses.write.mode(\"overwrite\").parquet(fact_survey_responses_path)\n"
   ]
  },
  {
   "cell_type": "code",
   "execution_count": 0,
   "metadata": {
    "application/vnd.databricks.v1+cell": {
     "cellMetadata": {
      "byteLimit": 2048000,
      "rowLimit": 10000
     },
     "inputWidgets": {},
     "nuid": "fc8e63a9-4cf9-418b-92c0-cac92895eb38",
     "showTitle": false,
     "tableResultSettingsMap": {},
     "title": ""
    }
   },
   "outputs": [
    {
     "data": {
      "text/html": [
       "<div>\n",
       "<style scoped>\n",
       "    .dataframe tbody tr th:only-of-type {\n",
       "        vertical-align: middle;\n",
       "    }\n",
       "\n",
       "    .dataframe tbody tr th {\n",
       "        vertical-align: top;\n",
       "    }\n",
       "\n",
       "    .dataframe thead th {\n",
       "        text-align: right;\n",
       "    }\n",
       "</style>\n",
       "<table border=\"1\" class=\"dataframe\">\n",
       "  <thead>\n",
       "    <tr style=\"text-align: right;\">\n",
       "      <th></th>\n",
       "      <th>response_id</th>\n",
       "      <th>airline_code</th>\n",
       "      <th>flight_number</th>\n",
       "      <th>destination</th>\n",
       "      <th>destination_geo</th>\n",
       "      <th>gate</th>\n",
       "      <th>arrival_time</th>\n",
       "      <th>departure_time</th>\n",
       "      <th>purpose_1</th>\n",
       "      <th>art_rating</th>\n",
       "      <th>food_rating</th>\n",
       "      <th>wifi_rating</th>\n",
       "      <th>cleanliness_boarding</th>\n",
       "      <th>safety_rating</th>\n",
       "      <th>city</th>\n",
       "      <th>age</th>\n",
       "      <th>gender</th>\n",
       "      <th>interview_date</th>\n",
       "    </tr>\n",
       "  </thead>\n",
       "  <tbody>\n",
       "    <tr>\n",
       "      <th>0</th>\n",
       "      <td>1</td>\n",
       "      <td>21</td>\n",
       "      <td>1437</td>\n",
       "      <td>49</td>\n",
       "      <td>1</td>\n",
       "      <td>12</td>\n",
       "      <td>8:34 AM</td>\n",
       "      <td>9:25 AM</td>\n",
       "      <td>1</td>\n",
       "      <td>3</td>\n",
       "      <td>4</td>\n",
       "      <td>3</td>\n",
       "      <td>3</td>\n",
       "      <td>5</td>\n",
       "      <td>SAN FRANCISCO</td>\n",
       "      <td>2</td>\n",
       "      <td>1</td>\n",
       "      <td>2</td>\n",
       "    </tr>\n",
       "    <tr>\n",
       "      <th>1</th>\n",
       "      <td>2</td>\n",
       "      <td>21</td>\n",
       "      <td>1437</td>\n",
       "      <td>49</td>\n",
       "      <td>1</td>\n",
       "      <td>12</td>\n",
       "      <td>8:00 AM</td>\n",
       "      <td>9:25 AM</td>\n",
       "      <td>1</td>\n",
       "      <td>4</td>\n",
       "      <td>4</td>\n",
       "      <td>6</td>\n",
       "      <td>4</td>\n",
       "      <td>5</td>\n",
       "      <td>CONCORD</td>\n",
       "      <td>6</td>\n",
       "      <td>1</td>\n",
       "      <td>2</td>\n",
       "    </tr>\n",
       "    <tr>\n",
       "      <th>2</th>\n",
       "      <td>3</td>\n",
       "      <td>21</td>\n",
       "      <td>1437</td>\n",
       "      <td>49</td>\n",
       "      <td>1</td>\n",
       "      <td>12</td>\n",
       "      <td>7:00 AM</td>\n",
       "      <td>9:25 AM</td>\n",
       "      <td>1</td>\n",
       "      <td>3</td>\n",
       "      <td>4</td>\n",
       "      <td>3</td>\n",
       "      <td>3</td>\n",
       "      <td>3</td>\n",
       "      <td>SAN FRANCISCO</td>\n",
       "      <td>4</td>\n",
       "      <td>2</td>\n",
       "      <td>2</td>\n",
       "    </tr>\n",
       "    <tr>\n",
       "      <th>3</th>\n",
       "      <td>4</td>\n",
       "      <td>21</td>\n",
       "      <td>1437</td>\n",
       "      <td>49</td>\n",
       "      <td>1</td>\n",
       "      <td>12</td>\n",
       "      <td>7:30 AM</td>\n",
       "      <td>9:25 AM</td>\n",
       "      <td>1</td>\n",
       "      <td>3</td>\n",
       "      <td>3</td>\n",
       "      <td>4</td>\n",
       "      <td>5</td>\n",
       "      <td>5</td>\n",
       "      <td>None</td>\n",
       "      <td>4</td>\n",
       "      <td>1</td>\n",
       "      <td>2</td>\n",
       "    </tr>\n",
       "    <tr>\n",
       "      <th>4</th>\n",
       "      <td>5</td>\n",
       "      <td>21</td>\n",
       "      <td>1437</td>\n",
       "      <td>49</td>\n",
       "      <td>1</td>\n",
       "      <td>12</td>\n",
       "      <td>6:30 AM</td>\n",
       "      <td>9:25 AM</td>\n",
       "      <td>1</td>\n",
       "      <td>3</td>\n",
       "      <td>3</td>\n",
       "      <td>5</td>\n",
       "      <td>5</td>\n",
       "      <td>5</td>\n",
       "      <td>HUNTINGTON BEACH</td>\n",
       "      <td>3</td>\n",
       "      <td>1</td>\n",
       "      <td>2</td>\n",
       "    </tr>\n",
       "    <tr>\n",
       "      <th>5</th>\n",
       "      <td>6</td>\n",
       "      <td>21</td>\n",
       "      <td>1437</td>\n",
       "      <td>49</td>\n",
       "      <td>1</td>\n",
       "      <td>12</td>\n",
       "      <td>8:00 AM</td>\n",
       "      <td>9:25 AM</td>\n",
       "      <td>2</td>\n",
       "      <td>4</td>\n",
       "      <td>3</td>\n",
       "      <td>1</td>\n",
       "      <td>3</td>\n",
       "      <td>5</td>\n",
       "      <td>SAN FRANCISCO</td>\n",
       "      <td>5</td>\n",
       "      <td>1</td>\n",
       "      <td>2</td>\n",
       "    </tr>\n",
       "    <tr>\n",
       "      <th>6</th>\n",
       "      <td>7</td>\n",
       "      <td>18</td>\n",
       "      <td>144</td>\n",
       "      <td>25</td>\n",
       "      <td>1</td>\n",
       "      <td>43</td>\n",
       "      <td>8:25 AM</td>\n",
       "      <td>10:35 AM</td>\n",
       "      <td>6</td>\n",
       "      <td>3</td>\n",
       "      <td>3</td>\n",
       "      <td>6</td>\n",
       "      <td>5</td>\n",
       "      <td>4</td>\n",
       "      <td>RODEO</td>\n",
       "      <td>9</td>\n",
       "      <td>1</td>\n",
       "      <td>2</td>\n",
       "    </tr>\n",
       "    <tr>\n",
       "      <th>7</th>\n",
       "      <td>8</td>\n",
       "      <td>18</td>\n",
       "      <td>144</td>\n",
       "      <td>25</td>\n",
       "      <td>1</td>\n",
       "      <td>43</td>\n",
       "      <td>9:25 AM</td>\n",
       "      <td>10:35 AM</td>\n",
       "      <td>2</td>\n",
       "      <td>5</td>\n",
       "      <td>4</td>\n",
       "      <td>5</td>\n",
       "      <td>5</td>\n",
       "      <td>5</td>\n",
       "      <td>SAN BRUNO</td>\n",
       "      <td>5</td>\n",
       "      <td>2</td>\n",
       "      <td>2</td>\n",
       "    </tr>\n",
       "    <tr>\n",
       "      <th>8</th>\n",
       "      <td>9</td>\n",
       "      <td>18</td>\n",
       "      <td>144</td>\n",
       "      <td>25</td>\n",
       "      <td>1</td>\n",
       "      <td>43</td>\n",
       "      <td>8:30 AM</td>\n",
       "      <td>10:35 AM</td>\n",
       "      <td>6</td>\n",
       "      <td>5</td>\n",
       "      <td>5</td>\n",
       "      <td>5</td>\n",
       "      <td>5</td>\n",
       "      <td>4</td>\n",
       "      <td>NEWARK</td>\n",
       "      <td>5</td>\n",
       "      <td>1</td>\n",
       "      <td>2</td>\n",
       "    </tr>\n",
       "    <tr>\n",
       "      <th>9</th>\n",
       "      <td>10</td>\n",
       "      <td>18</td>\n",
       "      <td>144</td>\n",
       "      <td>25</td>\n",
       "      <td>1</td>\n",
       "      <td>43</td>\n",
       "      <td>9:30 AM</td>\n",
       "      <td>10:35 AM</td>\n",
       "      <td>1</td>\n",
       "      <td>3</td>\n",
       "      <td>3</td>\n",
       "      <td>5</td>\n",
       "      <td>4</td>\n",
       "      <td>3</td>\n",
       "      <td>VALLEJO</td>\n",
       "      <td>3</td>\n",
       "      <td>2</td>\n",
       "      <td>2</td>\n",
       "    </tr>\n",
       "  </tbody>\n",
       "</table>\n",
       "</div>"
      ],
      "text/plain": [
       "  response_id  airline_code  flight_number  ...  age  gender  interview_date\n",
       "0           1            21           1437  ...    2       1               2\n",
       "1           2            21           1437  ...    6       1               2\n",
       "2           3            21           1437  ...    4       2               2\n",
       "3           4            21           1437  ...    4       1               2\n",
       "4           5            21           1437  ...    3       1               2\n",
       "5           6            21           1437  ...    5       1               2\n",
       "6           7            18            144  ...    9       1               2\n",
       "7           8            18            144  ...    5       2               2\n",
       "8           9            18            144  ...    5       1               2\n",
       "9          10            18            144  ...    3       2               2\n",
       "\n",
       "[10 rows x 18 columns]"
      ]
     },
     "execution_count": 19,
     "metadata": {},
     "output_type": "execute_result"
    }
   ],
   "source": [
    "fact_survey_responses.limit(10).toPandas()"
   ]
  },
  {
   "cell_type": "markdown",
   "metadata": {
    "application/vnd.databricks.v1+cell": {
     "cellMetadata": {},
     "inputWidgets": {},
     "nuid": "8ed902aa-c712-4fc6-84da-4453844ed18e",
     "showTitle": false,
     "tableResultSettingsMap": {},
     "title": ""
    }
   },
   "source": [
    "## "
   ]
  }
 ],
 "metadata": {
  "application/vnd.databricks.v1+notebook": {
   "dashboards": [],
   "environmentMetadata": {
    "base_environment": "",
    "client": "1"
   },
   "language": "python",
   "notebookMetadata": {
    "mostRecentlyExecutedCommandWithImplicitDF": {
     "commandId": 3315849031516159,
     "dataframes": [
      "_sqldf"
     ]
    },
    "pythonIndentUnit": 4
   },
   "notebookName": "SFO Custumer Survey",
   "widgets": {}
  },
  "language_info": {
   "name": "python"
  }
 },
 "nbformat": 4,
 "nbformat_minor": 0
}
